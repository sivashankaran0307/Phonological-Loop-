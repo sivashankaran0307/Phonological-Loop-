{
 "cells": [
  {
   "cell_type": "code",
   "execution_count": 2,
   "metadata": {},
   "outputs": [],
   "source": [
    "import matplotlib.pyplot as plt\n",
    "import numpy as np\n",
    "import random\n",
    "import math"
   ]
  },
  {
   "cell_type": "code",
   "execution_count": 7,
   "metadata": {},
   "outputs": [
    {
     "data": {
      "text/plain": [
       "Text(0, 0.5, 'Proportion Correct')"
      ]
     },
     "execution_count": 7,
     "metadata": {},
     "output_type": "execute_result"
    },
    {
     "data": {
      "image/png": "[encoded data removed]",
      "text/plain": [
       "<Figure size 432x288 with 1 Axes>"
      ]
     },
     "metadata": {
      "needs_background": "light"
     },
     "output_type": "display_data"
    }
   ],
   "source": [
    "nReps = 1000    # Number of replications\n",
    "listLength = 5  # Number of list items\n",
    "initAct = 1     # Initial Activation of items\n",
    "decRate = 0.25      # Decay Rate\n",
    "decSD = 0.05\n",
    "delay = 5       # Retention Interval\n",
    "minAct = 0.01    # Minimum activation of Recall\n",
    "\n",
    "rRange = np.linspace(1.5,4,15)\n",
    "# array([1.5       , 1.67857143, 1.85714286, 2.03571429, 2.21428571,\n",
    "#        2.39285714, 2.57142857, 2.75      , 2.92857143, 3.10714286,\n",
    "#        3.28571429, 3.46428571, 3.64285714, 3.82142857, 4.        ])\n",
    "\n",
    "tRange = 1.0/rRange\n",
    "# array([0.66666667, 0.59574468, 0.53846154, 0.49122807, 0.4516129 ,\n",
    "#        0.41791045, 0.38888889, 0.36363636, 0.34146341, 0.32183908,\n",
    "#        0.30434783, 0.28865979, 0.2745098 , 0.26168224, 0.25      ])\n",
    "\n",
    "pCor = np.zeros(len(rRange))\n",
    "# [0.0, 0.0, 0.0, 0.0, 0.0, 0.0, 0.0, 0.0, 0.0, 0.0, 0.0, 0.0, 0.0, 0.0, 0.0]\n",
    "\n",
    "i = 0\n",
    "\n",
    "for tPerWord in tRange:\n",
    "    # minAct = 0.5*tPerWord\n",
    "\n",
    "    for rep in range(nReps):\n",
    "\n",
    "        actVals = (np.ones(1)*initAct)\n",
    "        # actVals = [1.0]\n",
    "\n",
    "        dRate = decRate + (np.random.standard_normal() * decSD)\n",
    "\n",
    "        for x in range(listLength-1):\n",
    "            actVals = actVals - (dRate*math.exp(tPerWord))\n",
    "            actVals = np.append(actVals,[1.0])\n",
    "\n",
    "        cT = 0\n",
    "        itemReh = 0\n",
    "\n",
    "        while cT<delay:\n",
    "            intact = (np.where(actVals>minAct))[0]+1\n",
    "            # intact = [1, 2, 3, 4, 5]\n",
    "            \n",
    "            # Find the next item still accessible\n",
    "            try:\n",
    "                itemReh = intact[np.where(intact>itemReh)[0]][0]\n",
    "            except:\n",
    "                itemReh = 1\n",
    "                    \n",
    "            actVals[itemReh-1] = initAct\n",
    "           \n",
    "            actVals = actVals - (dRate*math.exp(tPerWord)) # Time Decay\n",
    "            cT = cT+tPerWord\n",
    "            \n",
    "        pCor[i] = pCor[i] +  (len(np.where(actVals>minAct)[0]) / listLength) ; \n",
    "        \n",
    "    i+=1\n",
    "\n",
    "plt.scatter(rRange,pCor/nReps)\n",
    "plt.xlim([0, 4.5])\n",
    "plt.ylim([0, 1.2])\n",
    "plt.xlabel('Speech Rate')\n",
    "plt.ylabel('Proportion Correct')"
   ]
  },
  {
   "cell_type": "code",
   "execution_count": null,
   "metadata": {},
   "outputs": [],
   "source": []
  }
 ],
 "metadata": {
  "kernelspec": {
   "display_name": "Python 3.9.0 64-bit",
   "language": "python",
   "name": "python3"
  },
  "language_info": {
   "codemirror_mode": {
    "name": "ipython",
    "version": 3
   },
   "file_extension": ".py",
   "mimetype": "text/x-python",
   "name": "python",
   "nbconvert_exporter": "python",
   "pygments_lexer": "ipython3",
   "version": "3.9.0"
  },
  "orig_nbformat": 4,
  "vscode": {
   "interpreter": {
    "hash": "aee8b7b246df8f9039afb4144a1f6fd8d2ca17a180786b69acc140d282b71a49"
   }
  }
 },
 "nbformat": 4,
 "nbformat_minor": 2
}
